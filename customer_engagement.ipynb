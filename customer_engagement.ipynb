{
 "cells": [
  {
   "cell_type": "markdown",
   "id": "789f8ba4",
   "metadata": {},
   "source": [
    "# ECOM Customer Engagement"
   ]
  },
  {
   "cell_type": "code",
   "execution_count": 846,
   "id": "1b322f4d",
   "metadata": {},
   "outputs": [],
   "source": [
    "import sys\n",
    "assert sys.version_info >= (3, 5)\n",
    "# Python ≥3.5 is required"
   ]
  },
  {
   "cell_type": "code",
   "execution_count": 847,
   "id": "a0c9c519",
   "metadata": {},
   "outputs": [],
   "source": [
    "# Scikit-Learn ≥0.20 is required\n",
    "import sklearn\n",
    "assert sklearn.__version__ >= \"0.20\""
   ]
  },
  {
   "cell_type": "code",
   "execution_count": 848,
   "id": "fc5d914f",
   "metadata": {},
   "outputs": [],
   "source": [
    "# Common imports\n",
    "import numpy as np\n",
    "import os\n",
    "import tarfile\n",
    "import urllib\n",
    "import pandas as pd\n",
    "import urllib.request\n",
    "import seaborn as sns\n",
    "import itertools\n",
    "import warnings\n",
    "warnings.filterwarnings(action='ignore')\n",
    "\n",
    "from sklearn.tree import DecisionTreeClassifier\n",
    "from sklearn.model_selection import train_test_split\n",
    "from sklearn.linear_model import LogisticRegression\n",
    "from sklearn.metrics import roc_curve\n",
    "from sklearn import preprocessing\n",
    "from sklearn import metrics"
   ]
  },
  {
   "cell_type": "code",
   "execution_count": 849,
   "id": "0ad7a7f2",
   "metadata": {},
   "outputs": [],
   "source": [
    "# To plot pretty figures\n",
    "%matplotlib inline\n",
    "import matplotlib as mpl\n",
    "import matplotlib.pyplot as plt\n",
    "from sklearn.tree import DecisionTreeClassifier,plot_tree"
   ]
  },
  {
   "cell_type": "markdown",
   "id": "f3c89a39",
   "metadata": {},
   "source": [
    "# getting data"
   ]
  },
  {
   "cell_type": "code",
   "execution_count": 850,
   "id": "eaa3f626",
   "metadata": {},
   "outputs": [],
   "source": [
    "data = pd.read_csv(\"ecom.csv\")"
   ]
  },
  {
   "cell_type": "code",
   "execution_count": 851,
   "id": "64fb6fdb",
   "metadata": {},
   "outputs": [
    {
     "data": {
      "text/html": [
       "<div>\n",
       "<style scoped>\n",
       "    .dataframe tbody tr th:only-of-type {\n",
       "        vertical-align: middle;\n",
       "    }\n",
       "\n",
       "    .dataframe tbody tr th {\n",
       "        vertical-align: top;\n",
       "    }\n",
       "\n",
       "    .dataframe thead th {\n",
       "        text-align: right;\n",
       "    }\n",
       "</style>\n",
       "<table border=\"1\" class=\"dataframe\">\n",
       "  <thead>\n",
       "    <tr style=\"text-align: right;\">\n",
       "      <th></th>\n",
       "      <th>customerID</th>\n",
       "      <th>nickname</th>\n",
       "      <th>Delivery</th>\n",
       "      <th>Price</th>\n",
       "      <th>Website</th>\n",
       "      <th>productQuality</th>\n",
       "      <th>Loyalty</th>\n",
       "      <th>Security</th>\n",
       "      <th>customerService</th>\n",
       "      <th>churn</th>\n",
       "    </tr>\n",
       "  </thead>\n",
       "  <tbody>\n",
       "    <tr>\n",
       "      <th>0</th>\n",
       "      <td>1</td>\n",
       "      <td>peter</td>\n",
       "      <td>VERY BAD</td>\n",
       "      <td>BAD</td>\n",
       "      <td>VERY BAD</td>\n",
       "      <td>BAD</td>\n",
       "      <td>HIGH</td>\n",
       "      <td>VERY BAD</td>\n",
       "      <td>GOOD</td>\n",
       "      <td>YES</td>\n",
       "    </tr>\n",
       "    <tr>\n",
       "      <th>1</th>\n",
       "      <td>2</td>\n",
       "      <td>sam</td>\n",
       "      <td>BAD</td>\n",
       "      <td>VERY GOOD</td>\n",
       "      <td>VERY GOOD</td>\n",
       "      <td>BAD</td>\n",
       "      <td>LOW</td>\n",
       "      <td>GOOD</td>\n",
       "      <td>GOOD</td>\n",
       "      <td>NO</td>\n",
       "    </tr>\n",
       "    <tr>\n",
       "      <th>2</th>\n",
       "      <td>3</td>\n",
       "      <td>john</td>\n",
       "      <td>VERY GOOD</td>\n",
       "      <td>VERY GOOD</td>\n",
       "      <td>BAD</td>\n",
       "      <td>VERY GOOD</td>\n",
       "      <td>MEDIUM</td>\n",
       "      <td>VERY GOOD</td>\n",
       "      <td>BAD</td>\n",
       "      <td>NO</td>\n",
       "    </tr>\n",
       "    <tr>\n",
       "      <th>3</th>\n",
       "      <td>4</td>\n",
       "      <td>tom</td>\n",
       "      <td>GOOD</td>\n",
       "      <td>BAD</td>\n",
       "      <td>VERY BAD</td>\n",
       "      <td>GOOD</td>\n",
       "      <td>MEDIUM</td>\n",
       "      <td>GOOD</td>\n",
       "      <td>VERY GOOD</td>\n",
       "      <td>YES</td>\n",
       "    </tr>\n",
       "    <tr>\n",
       "      <th>4</th>\n",
       "      <td>5</td>\n",
       "      <td>susan</td>\n",
       "      <td>BAD</td>\n",
       "      <td>VERY GOOD</td>\n",
       "      <td>GOOD</td>\n",
       "      <td>GOOD</td>\n",
       "      <td>LOW</td>\n",
       "      <td>VERY GOOD</td>\n",
       "      <td>BAD</td>\n",
       "      <td>NO</td>\n",
       "    </tr>\n",
       "  </tbody>\n",
       "</table>\n",
       "</div>"
      ],
      "text/plain": [
       "   customerID nickname   Delivery      Price    Website productQuality  \\\n",
       "0           1    peter   VERY BAD        BAD   VERY BAD            BAD   \n",
       "1           2      sam        BAD  VERY GOOD  VERY GOOD            BAD   \n",
       "2           3     john  VERY GOOD  VERY GOOD        BAD      VERY GOOD   \n",
       "3           4      tom       GOOD        BAD   VERY BAD           GOOD   \n",
       "4           5    susan        BAD  VERY GOOD       GOOD           GOOD   \n",
       "\n",
       "  Loyalty   Security customerService churn  \n",
       "0    HIGH   VERY BAD            GOOD   YES  \n",
       "1     LOW       GOOD            GOOD    NO  \n",
       "2  MEDIUM  VERY GOOD             BAD    NO  \n",
       "3  MEDIUM       GOOD       VERY GOOD   YES  \n",
       "4     LOW  VERY GOOD             BAD    NO  "
      ]
     },
     "execution_count": 851,
     "metadata": {},
     "output_type": "execute_result"
    }
   ],
   "source": [
    "data.head()"
   ]
  },
  {
   "cell_type": "code",
   "execution_count": 852,
   "id": "7917233c",
   "metadata": {},
   "outputs": [
    {
     "name": "stdout",
     "output_type": "stream",
     "text": [
      "<class 'pandas.core.frame.DataFrame'>\n",
      "RangeIndex: 23 entries, 0 to 22\n",
      "Data columns (total 10 columns):\n",
      " #   Column           Non-Null Count  Dtype \n",
      "---  ------           --------------  ----- \n",
      " 0   customerID       23 non-null     int64 \n",
      " 1   nickname         23 non-null     object\n",
      " 2   Delivery         23 non-null     object\n",
      " 3   Price            23 non-null     object\n",
      " 4   Website          23 non-null     object\n",
      " 5   productQuality   23 non-null     object\n",
      " 6   Loyalty          23 non-null     object\n",
      " 7   Security         23 non-null     object\n",
      " 8   customerService  23 non-null     object\n",
      " 9   churn            23 non-null     object\n",
      "dtypes: int64(1), object(9)\n",
      "memory usage: 1.9+ KB\n"
     ]
    }
   ],
   "source": [
    "data.info()"
   ]
  },
  {
   "cell_type": "code",
   "execution_count": 853,
   "id": "b1716d47",
   "metadata": {},
   "outputs": [
    {
     "data": {
      "text/plain": [
       "BAD          8\n",
       "GOOD         7\n",
       "VERY GOOD    5\n",
       "VERY BAD     3\n",
       "Name: Delivery, dtype: int64"
      ]
     },
     "execution_count": 853,
     "metadata": {},
     "output_type": "execute_result"
    }
   ],
   "source": [
    "data.Delivery.value_counts()"
   ]
  },
  {
   "cell_type": "code",
   "execution_count": 854,
   "id": "a2839f71",
   "metadata": {},
   "outputs": [],
   "source": [
    "X = data.drop(['customerID','nickname'],axis=1)"
   ]
  },
  {
   "cell_type": "code",
   "execution_count": 855,
   "id": "64c24532",
   "metadata": {},
   "outputs": [
    {
     "name": "stdout",
     "output_type": "stream",
     "text": [
      "<class 'pandas.core.frame.DataFrame'>\n",
      "RangeIndex: 23 entries, 0 to 22\n",
      "Data columns (total 8 columns):\n",
      " #   Column           Non-Null Count  Dtype \n",
      "---  ------           --------------  ----- \n",
      " 0   Delivery         23 non-null     object\n",
      " 1   Price            23 non-null     object\n",
      " 2   Website          23 non-null     object\n",
      " 3   productQuality   23 non-null     object\n",
      " 4   Loyalty          23 non-null     object\n",
      " 5   Security         23 non-null     object\n",
      " 6   customerService  23 non-null     object\n",
      " 7   churn            23 non-null     object\n",
      "dtypes: object(8)\n",
      "memory usage: 1.6+ KB\n"
     ]
    }
   ],
   "source": [
    "X.info()"
   ]
  },
  {
   "cell_type": "code",
   "execution_count": 856,
   "id": "872368c6",
   "metadata": {},
   "outputs": [
    {
     "name": "stdout",
     "output_type": "stream",
     "text": [
      "     Delivery      Price    Website productQuality Loyalty   Security  \\\n",
      "0    VERY BAD        BAD   VERY BAD            BAD    HIGH   VERY BAD   \n",
      "1         BAD  VERY GOOD  VERY GOOD            BAD     LOW       GOOD   \n",
      "2   VERY GOOD  VERY GOOD        BAD      VERY GOOD  MEDIUM  VERY GOOD   \n",
      "3        GOOD        BAD   VERY BAD           GOOD  MEDIUM       GOOD   \n",
      "4         BAD  VERY GOOD       GOOD           GOOD     LOW  VERY GOOD   \n",
      "5        GOOD        BAD   VERY BAD      VERY GOOD     LOW        BAD   \n",
      "6    VERY BAD   VERY BAD       GOOD           GOOD    HIGH        BAD   \n",
      "7   VERY GOOD        BAD       GOOD            BAD     LOW  VERY GOOD   \n",
      "8        GOOD        BAD        BAD           GOOD  MEDIUM        BAD   \n",
      "9   VERY GOOD       GOOD   VERY BAD       VERY BAD    HIGH   VERY BAD   \n",
      "10       GOOD  VERY GOOD   VERY BAD           GOOD     LOW  VERY GOOD   \n",
      "11        BAD        BAD       GOOD           GOOD  MEDIUM        BAD   \n",
      "12        BAD       GOOD       GOOD      VERY GOOD     LOW       GOOD   \n",
      "13        BAD        BAD  VERY GOOD           GOOD    HIGH        BAD   \n",
      "14        BAD   VERY BAD       GOOD            BAD    HIGH       GOOD   \n",
      "15  VERY GOOD       GOOD       GOOD           GOOD     LOW        BAD   \n",
      "16       GOOD       GOOD       GOOD           GOOD    HIGH  VERY GOOD   \n",
      "17       GOOD  VERY GOOD   VERY BAD      VERY GOOD  MEDIUM       GOOD   \n",
      "18        BAD   VERY BAD       GOOD      VERY GOOD    HIGH        BAD   \n",
      "19  VERY GOOD  VERY GOOD        BAD           GOOD    HIGH  VERY GOOD   \n",
      "20       GOOD   VERY BAD       GOOD            BAD     LOW       GOOD   \n",
      "21        BAD   VERY BAD       GOOD           GOOD    HIGH       GOOD   \n",
      "22   VERY BAD        BAD       GOOD           GOOD  MEDIUM        BAD   \n",
      "\n",
      "   customerService churn  \n",
      "0             GOOD   YES  \n",
      "1             GOOD    NO  \n",
      "2              BAD    NO  \n",
      "3        VERY GOOD   YES  \n",
      "4              BAD    NO  \n",
      "5             GOOD   YES  \n",
      "6              BAD   YES  \n",
      "7        VERY GOOD    NO  \n",
      "8             GOOD   YES  \n",
      "9             GOOD   YES  \n",
      "10             BAD    NO  \n",
      "11       VERY GOOD    NO  \n",
      "12            GOOD    NO  \n",
      "13       VERY GOOD   YES  \n",
      "14        VERY BAD   YES  \n",
      "15            GOOD    NO  \n",
      "16             BAD    NO  \n",
      "17       VERY GOOD    NO  \n",
      "18        VERY BAD   YES  \n",
      "19            GOOD    NO  \n",
      "20            GOOD   YES  \n",
      "21            GOOD    NO  \n",
      "22            GOOD   YES  \n"
     ]
    }
   ],
   "source": [
    "print(X)"
   ]
  },
  {
   "cell_type": "code",
   "execution_count": 857,
   "id": "63e3e88e",
   "metadata": {},
   "outputs": [
    {
     "name": "stdout",
     "output_type": "stream",
     "text": [
      "0     1\n",
      "1     0\n",
      "2     0\n",
      "3     1\n",
      "4     0\n",
      "5     1\n",
      "6     1\n",
      "7     0\n",
      "8     1\n",
      "9     1\n",
      "10    0\n",
      "11    0\n",
      "12    0\n",
      "13    1\n",
      "14    1\n",
      "15    0\n",
      "16    0\n",
      "17    0\n",
      "18    1\n",
      "19    0\n",
      "20    1\n",
      "21    0\n",
      "22    1\n",
      "Name: churn, dtype: int64\n"
     ]
    }
   ],
   "source": [
    "target = X.loc[:,\"churn\"]\n",
    "features = X.loc[:,\"Delivery\":\"customerService\"]\n",
    "features\n",
    "features.Delivery = features.Delivery.map({\"VERY BAD\":1,\"BAD\":2,\"GOOD\":3,\"VERY GOOD\":4})\n",
    "features.Price = features.Price.map({\"VERY BAD\":1,\"BAD\":2,\"GOOD\":3,\"VERY GOOD\":4})\n",
    "features.Website = features.Website.map({\"VERY BAD\":1,\"BAD\":2,\"GOOD\":3,\"VERY GOOD\":4})\n",
    "features.productQuality = features.productQuality.map({\"VERY BAD\":1,\"BAD\":2,\"GOOD\":3,\"VERY GOOD\":4})\n",
    "features.Loyalty = features.Loyalty.map({\"LOW\":1,\"MEDIUM\":2,\"HIGH\":3})\n",
    "features.Security = features.Security.map({\"VERY BAD\":1,\"BAD\":2,\"GOOD\":3,\"VERY GOOD\":4})\n",
    "features.customerService = features.customerService.map({\"VERY BAD\":1,\"BAD\":2,\"GOOD\":3,\"VERY GOOD\":4})\n",
    "\n",
    "target = target.map({\"YES\":1,\"NO\":0})\n",
    "print(target)"
   ]
  },
  {
   "cell_type": "code",
   "execution_count": 858,
   "id": "67811a65",
   "metadata": {},
   "outputs": [
    {
     "name": "stdout",
     "output_type": "stream",
     "text": [
      "    Delivery  Price  Website  productQuality  Loyalty  Security  \\\n",
      "0          1      2        1               2        3         1   \n",
      "1          2      4        4               2        1         3   \n",
      "2          4      4        2               4        2         4   \n",
      "3          3      2        1               3        2         3   \n",
      "4          2      4        3               3        1         4   \n",
      "5          3      2        1               4        1         2   \n",
      "6          1      1        3               3        3         2   \n",
      "7          4      2        3               2        1         4   \n",
      "8          3      2        2               3        2         2   \n",
      "9          4      3        1               1        3         1   \n",
      "10         3      4        1               3        1         4   \n",
      "11         2      2        3               3        2         2   \n",
      "12         2      3        3               4        1         3   \n",
      "13         2      2        4               3        3         2   \n",
      "14         2      1        3               2        3         3   \n",
      "15         4      3        3               3        1         2   \n",
      "16         3      3        3               3        3         4   \n",
      "17         3      4        1               4        2         3   \n",
      "18         2      1        3               4        3         2   \n",
      "19         4      4        2               3        3         4   \n",
      "20         3      1        3               2        1         3   \n",
      "21         2      1        3               3        3         3   \n",
      "22         1      2        3               3        2         2   \n",
      "\n",
      "    customerService  \n",
      "0                 3  \n",
      "1                 3  \n",
      "2                 2  \n",
      "3                 4  \n",
      "4                 2  \n",
      "5                 3  \n",
      "6                 2  \n",
      "7                 4  \n",
      "8                 3  \n",
      "9                 3  \n",
      "10                2  \n",
      "11                4  \n",
      "12                3  \n",
      "13                4  \n",
      "14                1  \n",
      "15                3  \n",
      "16                2  \n",
      "17                4  \n",
      "18                1  \n",
      "19                3  \n",
      "20                3  \n",
      "21                3  \n",
      "22                3  \n"
     ]
    }
   ],
   "source": [
    "A = features\n",
    "b = target\n",
    "P = A\n",
    "print(P)"
   ]
  },
  {
   "cell_type": "code",
   "execution_count": 859,
   "id": "c57bf951",
   "metadata": {},
   "outputs": [],
   "source": [
    "P_train, P_test, b_train, b_test = train_test_split(P, b, test_size=0.3, random_state=1) # 70% training and 30% test\n"
   ]
  },
  {
   "cell_type": "code",
   "execution_count": 860,
   "id": "63b950d1",
   "metadata": {},
   "outputs": [],
   "source": [
    "from sklearn.datasets import make_classification\n",
    "from sklearn.model_selection import train_test_split\n",
    "from sklearn.utils import resample\n",
    "from imblearn.over_sampling import RandomOverSampler\n",
    "from imblearn.under_sampling import RandomUnderSampler\n",
    "\n",
    "# apply random over-sampling to the training data\n",
    "ros = RandomOverSampler(random_state=1)\n",
    "P_train_resampled, b_train_resampled = ros.fit_resample(P_train, b_train)\n",
    "\n",
    "# apply random under-sampling to the training data\n",
    "rus = RandomUnderSampler(random_state=1)\n",
    "P_train_resampled, b_train_resampled = rus.fit_resample(P_train, b_train)"
   ]
  },
  {
   "cell_type": "code",
   "execution_count": 861,
   "id": "42943ce0",
   "metadata": {},
   "outputs": [
    {
     "name": "stdout",
     "output_type": "stream",
     "text": [
      "Accuracy: 0.7142857142857143\n",
      "[0 0 1 0 0 0 0]\n"
     ]
    }
   ],
   "source": [
    "from sklearn.ensemble import RandomForestClassifier\n",
    "\n",
    "# Create a Random Forest classifier with 100 trees\n",
    "clf = RandomForestClassifier(n_estimators=100, random_state=0)\n",
    "\n",
    "# Train the model on the dataset\n",
    "clf.fit(P_train, b_train)\n",
    "\n",
    "# Predict the class of the test data\n",
    "b_pred = clf.predict(P_test)\n",
    "\n",
    "print(\"Accuracy:\",metrics.accuracy_score(b_test, b_pred))\n",
    "\n",
    "print(b_pred)"
   ]
  },
  {
   "cell_type": "code",
   "execution_count": 880,
   "id": "a2e59219",
   "metadata": {},
   "outputs": [
    {
     "data": {
      "image/png": "[encoded data removed]",
      "text/plain": [
       "<Figure size 500x300 with 1 Axes>"
      ]
     },
     "metadata": {},
     "output_type": "display_data"
    }
   ],
   "source": [
    "tree = clf.estimators_[5]\n",
    "\n",
    "# Plot the tree\n",
    "plt.figure(figsize=(5, 3))\n",
    "plot_tree(tree, filled=True)\n",
    "plt.show()"
   ]
  },
  {
   "cell_type": "code",
   "execution_count": 896,
   "id": "f94569ec",
   "metadata": {},
   "outputs": [
    {
     "data": {
      "text/plain": [
       "Text(0.5, 1.0, 'Impact of each feature on customer churn')"
      ]
     },
     "execution_count": 896,
     "metadata": {},
     "output_type": "execute_result"
    },
    {
     "data": {
      "image/png": "[encoded data removed]",
      "text/plain": [
       "<Figure size 1000x600 with 1 Axes>"
      ]
     },
     "metadata": {},
     "output_type": "display_data"
    }
   ],
   "source": [
    "importances = clf.feature_importances_\n",
    "plt.figure(figsize=(10,6))\n",
    "plt.bar(range(P.shape[1]), importances, width = 0.6)\n",
    "plt.xticks(range(P.shape[1]), ['Delivery','Price','Website','productQuality','Loyalty','Security','customerService'])\n",
    "\n",
    "plt.title(\"Impact of each feature on customer churn\")"
   ]
  },
  {
   "cell_type": "code",
   "execution_count": 864,
   "id": "709e15ae",
   "metadata": {},
   "outputs": [
    {
     "name": "stdout",
     "output_type": "stream",
     "text": [
      "Mean Squared Error: 0.24697142857142856\n"
     ]
    }
   ],
   "source": [
    "from sklearn.ensemble import RandomForestRegressor\n",
    "from sklearn.metrics import mean_squared_error\n",
    "\n",
    "rfr = RandomForestRegressor(n_estimators=100, random_state=0)\n",
    "rfr.fit(P_train, b_train)\n",
    "\n",
    "b_pred = rfr.predict(P_test)\n",
    "\n",
    "mse = mean_squared_error(b_test, b_pred)\n",
    "print(\"Mean Squared Error:\", mse)"
   ]
  },
  {
   "cell_type": "code",
   "execution_count": 865,
   "id": "725be796",
   "metadata": {},
   "outputs": [],
   "source": [
    "import gspread"
   ]
  },
  {
   "cell_type": "code",
   "execution_count": 866,
   "id": "5e5a8231",
   "metadata": {},
   "outputs": [
    {
     "data": {
      "text/html": [
       "<div>\n",
       "<style scoped>\n",
       "    .dataframe tbody tr th:only-of-type {\n",
       "        vertical-align: middle;\n",
       "    }\n",
       "\n",
       "    .dataframe tbody tr th {\n",
       "        vertical-align: top;\n",
       "    }\n",
       "\n",
       "    .dataframe thead th {\n",
       "        text-align: right;\n",
       "    }\n",
       "</style>\n",
       "<table border=\"1\" class=\"dataframe\">\n",
       "  <thead>\n",
       "    <tr style=\"text-align: right;\">\n",
       "      <th></th>\n",
       "      <th>Timestamp</th>\n",
       "      <th>Enter customer ID:</th>\n",
       "      <th>Enter your name:</th>\n",
       "      <th>Rate your experience with Delivery.</th>\n",
       "      <th>Rate your experience with Price.</th>\n",
       "      <th>Rate your experience with Website.</th>\n",
       "      <th>Rate your experience with product quality.</th>\n",
       "      <th>What are the chances you would come back for shopping with us?</th>\n",
       "      <th>Rate your experience with Security.</th>\n",
       "      <th>Rate your experience with customer service.</th>\n",
       "    </tr>\n",
       "  </thead>\n",
       "  <tbody>\n",
       "    <tr>\n",
       "      <th>0</th>\n",
       "      <td>2023-04-02 22:50:59.676</td>\n",
       "      <td>28</td>\n",
       "      <td>aach</td>\n",
       "      <td>BAD</td>\n",
       "      <td>GOOD</td>\n",
       "      <td>BAD</td>\n",
       "      <td>GOOD</td>\n",
       "      <td>MEDIUM</td>\n",
       "      <td>BAD</td>\n",
       "      <td>VERY GOOD</td>\n",
       "    </tr>\n",
       "    <tr>\n",
       "      <th>1</th>\n",
       "      <td>2023-04-03 13:33:42.270</td>\n",
       "      <td>29</td>\n",
       "      <td>mads</td>\n",
       "      <td>VERY BAD</td>\n",
       "      <td>BAD</td>\n",
       "      <td>GOOD</td>\n",
       "      <td>VERY GOOD</td>\n",
       "      <td>LOW</td>\n",
       "      <td>BAD</td>\n",
       "      <td>GOOD</td>\n",
       "    </tr>\n",
       "    <tr>\n",
       "      <th>2</th>\n",
       "      <td>2023-04-03 16:19:13.617</td>\n",
       "      <td>75</td>\n",
       "      <td>aaru</td>\n",
       "      <td>VERY BAD</td>\n",
       "      <td>VERY BAD</td>\n",
       "      <td>BAD</td>\n",
       "      <td>VERY BAD</td>\n",
       "      <td>LOW</td>\n",
       "      <td>BAD</td>\n",
       "      <td>BAD</td>\n",
       "    </tr>\n",
       "  </tbody>\n",
       "</table>\n",
       "</div>"
      ],
      "text/plain": [
       "                Timestamp  Enter customer ID: Enter your name:  \\\n",
       "0 2023-04-02 22:50:59.676                  28             aach   \n",
       "1 2023-04-03 13:33:42.270                  29             mads   \n",
       "2 2023-04-03 16:19:13.617                  75             aaru   \n",
       "\n",
       "  Rate your experience with Delivery. Rate your experience with Price.  \\\n",
       "0                                 BAD                             GOOD   \n",
       "1                            VERY BAD                              BAD   \n",
       "2                            VERY BAD                         VERY BAD   \n",
       "\n",
       "  Rate your experience with Website.  \\\n",
       "0                                BAD   \n",
       "1                               GOOD   \n",
       "2                                BAD   \n",
       "\n",
       "  Rate your experience with product quality.  \\\n",
       "0                                       GOOD   \n",
       "1                                  VERY GOOD   \n",
       "2                                   VERY BAD   \n",
       "\n",
       "  What are the chances you would come back for shopping with us?  \\\n",
       "0                                             MEDIUM               \n",
       "1                                                LOW               \n",
       "2                                                LOW               \n",
       "\n",
       "  Rate your experience with Security.  \\\n",
       "0                                 BAD   \n",
       "1                                 BAD   \n",
       "2                                 BAD   \n",
       "\n",
       "  Rate your experience with customer service.  \n",
       "0                                   VERY GOOD  \n",
       "1                                        GOOD  \n",
       "2                                         BAD  "
      ]
     },
     "execution_count": 866,
     "metadata": {},
     "output_type": "execute_result"
    }
   ],
   "source": [
    "#https://docs.google.com/spreadsheets/d/1VSxw_y84rm-bkCAFom74d-syRp0QU46agocJKrflUQM/edit#gid=31856741\n",
    "    \n",
    "sheet_id = '1VSxw_y84rm-bkCAFom74d-syRp0QU46agocJKrflUQM'\n",
    "xls = pd.ExcelFile(f\"https://docs.google.com/spreadsheets/d/{sheet_id}/export?format=xlsx\")\n",
    "sheet_1 = pd.read_excel(xls,'sheet',header=0)\n",
    "\n",
    "sheet_1"
   ]
  },
  {
   "cell_type": "code",
   "execution_count": 867,
   "id": "4b3cdc3d",
   "metadata": {},
   "outputs": [
    {
     "data": {
      "text/html": [
       "<div>\n",
       "<style scoped>\n",
       "    .dataframe tbody tr th:only-of-type {\n",
       "        vertical-align: middle;\n",
       "    }\n",
       "\n",
       "    .dataframe tbody tr th {\n",
       "        vertical-align: top;\n",
       "    }\n",
       "\n",
       "    .dataframe thead th {\n",
       "        text-align: right;\n",
       "    }\n",
       "</style>\n",
       "<table border=\"1\" class=\"dataframe\">\n",
       "  <thead>\n",
       "    <tr style=\"text-align: right;\">\n",
       "      <th></th>\n",
       "      <th>customerID</th>\n",
       "      <th>nickname</th>\n",
       "    </tr>\n",
       "  </thead>\n",
       "  <tbody>\n",
       "    <tr>\n",
       "      <th>0</th>\n",
       "      <td>28</td>\n",
       "      <td>aach</td>\n",
       "    </tr>\n",
       "    <tr>\n",
       "      <th>1</th>\n",
       "      <td>29</td>\n",
       "      <td>mads</td>\n",
       "    </tr>\n",
       "    <tr>\n",
       "      <th>2</th>\n",
       "      <td>75</td>\n",
       "      <td>aaru</td>\n",
       "    </tr>\n",
       "  </tbody>\n",
       "</table>\n",
       "</div>"
      ],
      "text/plain": [
       "   customerID nickname\n",
       "0          28     aach\n",
       "1          29     mads\n",
       "2          75     aaru"
      ]
     },
     "execution_count": 867,
     "metadata": {},
     "output_type": "execute_result"
    }
   ],
   "source": [
    "customer = sheet_1.loc[:,\"Enter customer ID:\":\"Enter your name:\"]\n",
    "customer.rename(columns = {'Enter customer ID:': 'customerID'}, inplace = True)\n",
    "customer.rename(columns = {'Enter your name:': 'nickname'}, inplace = True)\n",
    "customer"
   ]
  },
  {
   "cell_type": "code",
   "execution_count": 868,
   "id": "ea13d8d1",
   "metadata": {},
   "outputs": [
    {
     "data": {
      "text/html": [
       "<div>\n",
       "<style scoped>\n",
       "    .dataframe tbody tr th:only-of-type {\n",
       "        vertical-align: middle;\n",
       "    }\n",
       "\n",
       "    .dataframe tbody tr th {\n",
       "        vertical-align: top;\n",
       "    }\n",
       "\n",
       "    .dataframe thead th {\n",
       "        text-align: right;\n",
       "    }\n",
       "</style>\n",
       "<table border=\"1\" class=\"dataframe\">\n",
       "  <thead>\n",
       "    <tr style=\"text-align: right;\">\n",
       "      <th></th>\n",
       "      <th>Delivery</th>\n",
       "      <th>Price</th>\n",
       "      <th>Website</th>\n",
       "      <th>productQuality</th>\n",
       "      <th>Loyalty</th>\n",
       "      <th>Security</th>\n",
       "      <th>customerService</th>\n",
       "    </tr>\n",
       "  </thead>\n",
       "  <tbody>\n",
       "    <tr>\n",
       "      <th>0</th>\n",
       "      <td>BAD</td>\n",
       "      <td>GOOD</td>\n",
       "      <td>BAD</td>\n",
       "      <td>GOOD</td>\n",
       "      <td>MEDIUM</td>\n",
       "      <td>BAD</td>\n",
       "      <td>VERY GOOD</td>\n",
       "    </tr>\n",
       "    <tr>\n",
       "      <th>1</th>\n",
       "      <td>VERY BAD</td>\n",
       "      <td>BAD</td>\n",
       "      <td>GOOD</td>\n",
       "      <td>VERY GOOD</td>\n",
       "      <td>LOW</td>\n",
       "      <td>BAD</td>\n",
       "      <td>GOOD</td>\n",
       "    </tr>\n",
       "    <tr>\n",
       "      <th>2</th>\n",
       "      <td>VERY BAD</td>\n",
       "      <td>VERY BAD</td>\n",
       "      <td>BAD</td>\n",
       "      <td>VERY BAD</td>\n",
       "      <td>LOW</td>\n",
       "      <td>BAD</td>\n",
       "      <td>BAD</td>\n",
       "    </tr>\n",
       "  </tbody>\n",
       "</table>\n",
       "</div>"
      ],
      "text/plain": [
       "   Delivery     Price Website productQuality Loyalty Security customerService\n",
       "0       BAD      GOOD     BAD           GOOD  MEDIUM      BAD       VERY GOOD\n",
       "1  VERY BAD       BAD    GOOD      VERY GOOD     LOW      BAD            GOOD\n",
       "2  VERY BAD  VERY BAD     BAD       VERY BAD     LOW      BAD             BAD"
      ]
     },
     "execution_count": 868,
     "metadata": {},
     "output_type": "execute_result"
    }
   ],
   "source": [
    "\n",
    "ts = sheet_1.drop(['Timestamp','Enter customer ID:','Enter your name:'],axis=1)\n",
    "ts.rename(columns = {'Rate your experience with Delivery.': 'Delivery'}, inplace = True)\n",
    "ts.rename(columns = {'Rate your experience with Price.': 'Price'}, inplace = True)\n",
    "ts.rename(columns = {'Rate your experience with Website.': 'Website'}, inplace = True)\n",
    "ts.rename(columns = {'Rate your experience with product quality.': 'productQuality'}, inplace = True)\n",
    "ts.rename(columns = {'Rate your experience with Security.': 'Security'}, inplace = True)\n",
    "ts.rename(columns = {'Rate your experience with customer service.': 'customerService'}, inplace = True)\n",
    "ts.rename(columns = {'What are the chances you would come back for shopping with us?': 'Loyalty'}, inplace = True)\n",
    "ts\n"
   ]
  },
  {
   "cell_type": "code",
   "execution_count": 869,
   "id": "bd56c976",
   "metadata": {},
   "outputs": [
    {
     "data": {
      "text/html": [
       "<div>\n",
       "<style scoped>\n",
       "    .dataframe tbody tr th:only-of-type {\n",
       "        vertical-align: middle;\n",
       "    }\n",
       "\n",
       "    .dataframe tbody tr th {\n",
       "        vertical-align: top;\n",
       "    }\n",
       "\n",
       "    .dataframe thead th {\n",
       "        text-align: right;\n",
       "    }\n",
       "</style>\n",
       "<table border=\"1\" class=\"dataframe\">\n",
       "  <thead>\n",
       "    <tr style=\"text-align: right;\">\n",
       "      <th></th>\n",
       "      <th>Delivery</th>\n",
       "      <th>Price</th>\n",
       "      <th>Website</th>\n",
       "      <th>productQuality</th>\n",
       "      <th>Loyalty</th>\n",
       "      <th>Security</th>\n",
       "      <th>customerService</th>\n",
       "    </tr>\n",
       "  </thead>\n",
       "  <tbody>\n",
       "    <tr>\n",
       "      <th>0</th>\n",
       "      <td>2</td>\n",
       "      <td>3</td>\n",
       "      <td>2</td>\n",
       "      <td>3</td>\n",
       "      <td>2</td>\n",
       "      <td>2</td>\n",
       "      <td>4</td>\n",
       "    </tr>\n",
       "    <tr>\n",
       "      <th>1</th>\n",
       "      <td>1</td>\n",
       "      <td>2</td>\n",
       "      <td>3</td>\n",
       "      <td>4</td>\n",
       "      <td>1</td>\n",
       "      <td>2</td>\n",
       "      <td>3</td>\n",
       "    </tr>\n",
       "    <tr>\n",
       "      <th>2</th>\n",
       "      <td>1</td>\n",
       "      <td>1</td>\n",
       "      <td>2</td>\n",
       "      <td>1</td>\n",
       "      <td>1</td>\n",
       "      <td>2</td>\n",
       "      <td>2</td>\n",
       "    </tr>\n",
       "  </tbody>\n",
       "</table>\n",
       "</div>"
      ],
      "text/plain": [
       "   Delivery  Price  Website  productQuality  Loyalty  Security  \\\n",
       "0         2      3        2               3        2         2   \n",
       "1         1      2        3               4        1         2   \n",
       "2         1      1        2               1        1         2   \n",
       "\n",
       "   customerService  \n",
       "0                4  \n",
       "1                3  \n",
       "2                2  "
      ]
     },
     "execution_count": 869,
     "metadata": {},
     "output_type": "execute_result"
    }
   ],
   "source": [
    "ts.Delivery = ts.Delivery.map({\"VERY BAD\":1,\"BAD\":2,\"GOOD\":3,\"VERY GOOD\":4})\n",
    "ts.Price = ts.Price.map({\"VERY BAD\":1,\"BAD\":2,\"GOOD\":3,\"VERY GOOD\":4})\n",
    "ts.Website = ts.Website.map({\"VERY BAD\":1,\"BAD\":2,\"GOOD\":3,\"VERY GOOD\":4})\n",
    "ts.productQuality = ts.productQuality.map({\"VERY BAD\":1,\"BAD\":2,\"GOOD\":3,\"VERY GOOD\":4})\n",
    "ts.Loyalty = ts.Loyalty.map({\"LOW\":1,\"MEDIUM\":2,\"HIGH\":3})\n",
    "ts.Security = ts.Security.map({\"VERY BAD\":1,\"BAD\":2,\"GOOD\":3,\"VERY GOOD\":4})\n",
    "ts.customerService = ts.customerService.map({\"VERY BAD\":1,\"BAD\":2,\"GOOD\":3,\"VERY GOOD\":4})\n",
    "ts"
   ]
  },
  {
   "cell_type": "code",
   "execution_count": 870,
   "id": "5f51a310",
   "metadata": {},
   "outputs": [
    {
     "data": {
      "text/plain": [
       "3"
      ]
     },
     "execution_count": 870,
     "metadata": {},
     "output_type": "execute_result"
    }
   ],
   "source": [
    "ts\n",
    "length = len(ts)\n",
    "ts\n",
    "length"
   ]
  },
  {
   "cell_type": "code",
   "execution_count": 871,
   "id": "c528fdb9",
   "metadata": {},
   "outputs": [
    {
     "name": "stdout",
     "output_type": "stream",
     "text": [
      "Customer: aach with customer ID: 28 \u001b[1m\u001b[32mWILL NOT\u001b[0m churn.\n",
      "Customer: mads with customer ID: 29 \u001b[1m\u001b[31mWILL\u001b[0m churn.\n",
      "Customer: aaru with customer ID: 75 \u001b[1m\u001b[31mWILL\u001b[0m churn.\n"
     ]
    }
   ],
   "source": [
    "ts_pred = clf.predict(ts)\n",
    "import colorama\n",
    "from colorama import Fore\n",
    "\n",
    "\n",
    "for i in range (0,length):\n",
    "    if ts_pred[i] == 0:\n",
    "        churn = \"WILL NOT\"\n",
    "        print(\"Customer:\",customer.iloc[i]['nickname'],\"with customer ID:\",customer.iloc[i]['customerID'],'\\033[1m' + Fore.GREEN + churn + '\\033[0m',\"churn.\")\n",
    "    elif ts_pred[i] == 1:\n",
    "        churn = \"WILL\"\n",
    "        print(\"Customer:\",customer.iloc[i]['nickname'],\"with customer ID:\",customer.iloc[i]['customerID'],'\\033[1m' + Fore.RED + churn + '\\033[0m',\"churn.\")\n",
    "    "
   ]
  }
 ],
 "metadata": {
  "kernelspec": {
   "display_name": "Python 3 (ipykernel)",
   "language": "python",
   "name": "python3"
  },
  "language_info": {
   "codemirror_mode": {
    "name": "ipython",
    "version": 3
   },
   "file_extension": ".py",
   "mimetype": "text/x-python",
   "name": "python",
   "nbconvert_exporter": "python",
   "pygments_lexer": "ipython3",
   "version": "3.9.13"
  }
 },
 "nbformat": 4,
 "nbformat_minor": 5
}
